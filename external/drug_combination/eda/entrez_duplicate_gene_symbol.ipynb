{
 "cells": [
  {
   "attachments": {
    "eef324d0-fa89-4a73-97ce-fd86981ec182.png": {
     "image/png": "[encoded data removed]"
    }
   },
   "cell_type": "markdown",
   "id": "cfaec9e4-960d-431a-ad8e-3a3466114ed8",
   "metadata": {},
   "source": [
    "In gene_2401_df.csv there are duplicate gene symbols, for the same entrez ID. Let's investigate why \n",
    "![image.png](attachment:eef324d0-fa89-4a73-97ce-fd86981ec182.png)"
   ]
  },
  {
   "cell_type": "code",
   "execution_count": 1,
   "id": "5edfbf0b-fca0-4eb0-afb6-1dc67a1af7ad",
   "metadata": {},
   "outputs": [],
   "source": [
    "! pip install biopython --quiet"
   ]
  },
  {
   "cell_type": "code",
   "execution_count": 31,
   "id": "91fa618a-9538-47d1-8d1b-8f12431a8ee3",
   "metadata": {},
   "outputs": [
    {
     "data": {
      "text/html": [
       "<div>\n",
       "<style scoped>\n",
       "    .dataframe tbody tr th:only-of-type {\n",
       "        vertical-align: middle;\n",
       "    }\n",
       "\n",
       "    .dataframe tbody tr th {\n",
       "        vertical-align: top;\n",
       "    }\n",
       "\n",
       "    .dataframe thead th {\n",
       "        text-align: right;\n",
       "    }\n",
       "</style>\n",
       "<table border=\"1\" class=\"dataframe\">\n",
       "  <thead>\n",
       "    <tr style=\"text-align: right;\">\n",
       "      <th></th>\n",
       "      <th>entrez</th>\n",
       "      <th>symbol</th>\n",
       "    </tr>\n",
       "  </thead>\n",
       "  <tbody>\n",
       "    <tr>\n",
       "      <th>0</th>\n",
       "      <td>8200</td>\n",
       "      <td>GDF5</td>\n",
       "    </tr>\n",
       "    <tr>\n",
       "      <th>1</th>\n",
       "      <td>8202</td>\n",
       "      <td>NCOA3</td>\n",
       "    </tr>\n",
       "    <tr>\n",
       "      <th>2</th>\n",
       "      <td>8204</td>\n",
       "      <td>NRIP1</td>\n",
       "    </tr>\n",
       "    <tr>\n",
       "      <th>3</th>\n",
       "      <td>139285</td>\n",
       "      <td>AMER1</td>\n",
       "    </tr>\n",
       "    <tr>\n",
       "      <th>4</th>\n",
       "      <td>8216</td>\n",
       "      <td>LZTR1</td>\n",
       "    </tr>\n",
       "  </tbody>\n",
       "</table>\n",
       "</div>"
      ],
      "text/plain": [
       "   entrez symbol\n",
       "0    8200   GDF5\n",
       "1    8202  NCOA3\n",
       "2    8204  NRIP1\n",
       "3  139285  AMER1\n",
       "4    8216  LZTR1"
      ]
     },
     "execution_count": 31,
     "metadata": {},
     "output_type": "execute_result"
    }
   ],
   "source": [
    "from Bio import Entrez\n",
    "import pandas as pd\n",
    "\n",
    "GENES_PATH = \"../data/genes/genes_2401_df.csv\"\n",
    "\n",
    "Entrez.email = \"nadib00@zedat.fu-berlin.de\"  # required by entrez\n",
    "df = pd.read_csv(GENES_PATH)\n",
    "df.head()"
   ]
  },
  {
   "cell_type": "code",
   "execution_count": 32,
   "id": "8a6c0e52-d50d-4b30-aa4d-58bdd7a23b4e",
   "metadata": {},
   "outputs": [
    {
     "data": {
      "text/html": [
       "<div>\n",
       "<style scoped>\n",
       "    .dataframe tbody tr th:only-of-type {\n",
       "        vertical-align: middle;\n",
       "    }\n",
       "\n",
       "    .dataframe tbody tr th {\n",
       "        vertical-align: top;\n",
       "    }\n",
       "\n",
       "    .dataframe thead th {\n",
       "        text-align: right;\n",
       "    }\n",
       "</style>\n",
       "<table border=\"1\" class=\"dataframe\">\n",
       "  <thead>\n",
       "    <tr style=\"text-align: right;\">\n",
       "      <th></th>\n",
       "      <th>entrez</th>\n",
       "      <th>symbol</th>\n",
       "    </tr>\n",
       "  </thead>\n",
       "  <tbody>\n",
       "    <tr>\n",
       "      <th>2398</th>\n",
       "      <td>404019</td>\n",
       "      <td>HSP90B1</td>\n",
       "    </tr>\n",
       "  </tbody>\n",
       "</table>\n",
       "</div>"
      ],
      "text/plain": [
       "      entrez   symbol\n",
       "2398  404019  HSP90B1"
      ]
     },
     "execution_count": 32,
     "metadata": {},
     "output_type": "execute_result"
    }
   ],
   "source": [
    "dup_df = df[df.duplicated(subset='symbol')]\n",
    "dup_df"
   ]
  },
  {
   "cell_type": "code",
   "execution_count": 33,
   "id": "971f6716-b466-47a6-9024-7496939479cb",
   "metadata": {},
   "outputs": [
    {
     "data": {
      "text/plain": [
       "'HSP90B1'"
      ]
     },
     "execution_count": 33,
     "metadata": {},
     "output_type": "execute_result"
    }
   ],
   "source": [
    "problem_symbol = dup_df.symbol.values[0]\n",
    "problem_symbol"
   ]
  },
  {
   "cell_type": "code",
   "execution_count": 34,
   "id": "474aa873-7aa0-4187-ab29-d33fc4dc5ad9",
   "metadata": {},
   "outputs": [
    {
     "data": {
      "text/html": [
       "<div>\n",
       "<style scoped>\n",
       "    .dataframe tbody tr th:only-of-type {\n",
       "        vertical-align: middle;\n",
       "    }\n",
       "\n",
       "    .dataframe tbody tr th {\n",
       "        vertical-align: top;\n",
       "    }\n",
       "\n",
       "    .dataframe thead th {\n",
       "        text-align: right;\n",
       "    }\n",
       "</style>\n",
       "<table border=\"1\" class=\"dataframe\">\n",
       "  <thead>\n",
       "    <tr style=\"text-align: right;\">\n",
       "      <th></th>\n",
       "      <th>entrez</th>\n",
       "      <th>symbol</th>\n",
       "    </tr>\n",
       "  </thead>\n",
       "  <tbody>\n",
       "    <tr>\n",
       "      <th>2180</th>\n",
       "      <td>7184</td>\n",
       "      <td>HSP90B1</td>\n",
       "    </tr>\n",
       "    <tr>\n",
       "      <th>2398</th>\n",
       "      <td>404019</td>\n",
       "      <td>HSP90B1</td>\n",
       "    </tr>\n",
       "  </tbody>\n",
       "</table>\n",
       "</div>"
      ],
      "text/plain": [
       "      entrez   symbol\n",
       "2180    7184  HSP90B1\n",
       "2398  404019  HSP90B1"
      ]
     },
     "execution_count": 34,
     "metadata": {},
     "output_type": "execute_result"
    }
   ],
   "source": [
    "problem_df = df[df.symbol == problem_symbol]\n",
    "problem_df.head()"
   ]
  },
  {
   "cell_type": "code",
   "execution_count": 48,
   "id": "7da1f8d8-6aef-4950-8c2a-0c35682eb417",
   "metadata": {},
   "outputs": [],
   "source": [
    "def fetch_entrez_entry(entrez_id: int) -> dict:\n",
    "    handle = Entrez.efetch(db=\"gene\", id=entrez_id, retmode=\"xml\")\n",
    "    records = Entrez.read(handle)\n",
    "    handle.close()\n",
    "    return records[0]"
   ]
  },
  {
   "cell_type": "code",
   "execution_count": 50,
   "id": "978cfa47-a5ce-4979-892a-de270ee36046",
   "metadata": {},
   "outputs": [
    {
     "data": {
      "text/plain": [
       "{'Gene-ref_locus': 'HSP90AA1', 'Gene-ref_desc': 'heat shock protein 90 alpha family class A member 1', 'Gene-ref_maploc': '14q32.31', 'Gene-ref_db': [{'Dbtag_db': 'HGNC', 'Dbtag_tag': {'Object-id': {'Object-id_str': 'HGNC:5253'}}}, {'Dbtag_db': 'Ensembl', 'Dbtag_tag': {'Object-id': {'Object-id_str': 'ENSG00000080824'}}}, {'Dbtag_db': 'MIM', 'Dbtag_tag': {'Object-id': {'Object-id_id': '140571'}}}, {'Dbtag_db': 'AllianceGenome', 'Dbtag_tag': {'Object-id': {'Object-id_str': 'HGNC:5253'}}}], 'Gene-ref_syn': ['EL52', 'HSPN', 'LAP2', 'HSP86', 'HSPC1', 'HSPCA', 'Hsp89', 'Hsp90', 'LAP-2', 'HSP89A', 'HSP90A', 'HSP90N', 'Hsp103', 'HSPCAL1', 'HSPCAL4', 'HEL-S-65p'], 'Gene-ref_formal-name': {'Gene-nomenclature': {'Gene-nomenclature_status': StringElement('', attributes={'value': 'official'}), 'Gene-nomenclature_symbol': 'HSP90AA1', 'Gene-nomenclature_name': 'heat shock protein 90 alpha family class A member 1', 'Gene-nomenclature_source': {'Dbtag': {'Dbtag_db': 'HGNC', 'Dbtag_tag': {'Object-id': {'Object-id_str': 'HGNC:5253'}}}}}}}"
      ]
     },
     "execution_count": 50,
     "metadata": {},
     "output_type": "execute_result"
    }
   ],
   "source": [
    "def fetch_gene_info(entrez_id: int) -> dict:\n",
    "    record = fetch_entrez_entry(entrez_id)\n",
    "    return record['Entrezgene_gene']['Gene-ref']  \n",
    "\n",
    "fetch_gene_info(\"3320\")"
   ]
  },
  {
   "cell_type": "code",
   "execution_count": 51,
   "id": "90b3242d-4922-4058-a9e0-a085a4fb6ea3",
   "metadata": {},
   "outputs": [],
   "source": [
    "def fetch_gene_symbol_and_desc(entrez_id: int) -> pd.Series:\n",
    "    \"\"\"Fetch official gene symbol and description using Entrez ID.\"\"\"\n",
    "    gene_info = fetch_gene_info(entrez_id)\n",
    "    symbol = gene_info.get('Gene-ref_locus', '')\n",
    "    description = gene_info.get('Gene-ref_desc', '')\n",
    "    return pd.Series([symbol, description])"
   ]
  },
  {
   "cell_type": "code",
   "execution_count": 52,
   "id": "8c436768-bae9-4cef-a8e9-141ee23b056b",
   "metadata": {},
   "outputs": [
    {
     "name": "stderr",
     "output_type": "stream",
     "text": [
      "/var/folders/hz/19nx8z9n3y10jrc842qwt7h80000gn/T/ipykernel_90180/1038245026.py:1: SettingWithCopyWarning: \n",
      "A value is trying to be set on a copy of a slice from a DataFrame.\n",
      "Try using .loc[row_indexer,col_indexer] = value instead\n",
      "\n",
      "See the caveats in the documentation: https://pandas.pydata.org/pandas-docs/stable/user_guide/indexing.html#returning-a-view-versus-a-copy\n",
      "  problem_df[['gene_symbol_official', 'gene_description']] = problem_df['entrez'].apply(\n"
     ]
    },
    {
     "data": {
      "text/html": [
       "<div>\n",
       "<style scoped>\n",
       "    .dataframe tbody tr th:only-of-type {\n",
       "        vertical-align: middle;\n",
       "    }\n",
       "\n",
       "    .dataframe tbody tr th {\n",
       "        vertical-align: top;\n",
       "    }\n",
       "\n",
       "    .dataframe thead th {\n",
       "        text-align: right;\n",
       "    }\n",
       "</style>\n",
       "<table border=\"1\" class=\"dataframe\">\n",
       "  <thead>\n",
       "    <tr style=\"text-align: right;\">\n",
       "      <th></th>\n",
       "      <th>entrez</th>\n",
       "      <th>symbol</th>\n",
       "      <th>gene_symbol_official</th>\n",
       "      <th>gene_description</th>\n",
       "    </tr>\n",
       "  </thead>\n",
       "  <tbody>\n",
       "    <tr>\n",
       "      <th>2180</th>\n",
       "      <td>7184</td>\n",
       "      <td>HSP90B1</td>\n",
       "      <td>HSP90B1</td>\n",
       "      <td>heat shock protein 90 beta family member 1</td>\n",
       "    </tr>\n",
       "    <tr>\n",
       "      <th>2398</th>\n",
       "      <td>404019</td>\n",
       "      <td>HSP90B1</td>\n",
       "      <td>HSP90B1</td>\n",
       "      <td>heat shock protein 90 beta family member 1</td>\n",
       "    </tr>\n",
       "  </tbody>\n",
       "</table>\n",
       "</div>"
      ],
      "text/plain": [
       "      entrez   symbol gene_symbol_official  \\\n",
       "2180    7184  HSP90B1              HSP90B1   \n",
       "2398  404019  HSP90B1              HSP90B1   \n",
       "\n",
       "                                gene_description  \n",
       "2180  heat shock protein 90 beta family member 1  \n",
       "2398  heat shock protein 90 beta family member 1  "
      ]
     },
     "execution_count": 52,
     "metadata": {},
     "output_type": "execute_result"
    }
   ],
   "source": [
    "problem_df[['gene_symbol_official', 'gene_description']] = problem_df['entrez'].apply(\n",
    "    lambda eid: fetch_gene_symbol_and_desc(eid)\n",
    ")\n",
    "problem_df"
   ]
  },
  {
   "cell_type": "markdown",
   "id": "7862c7fb-5f06-458c-93b2-0d17b89fc279",
   "metadata": {},
   "source": [
    "It's actually true! For these two IDs, we get the same gene symbol. But why are the features different then?"
   ]
  },
  {
   "cell_type": "code",
   "execution_count": 40,
   "id": "471b4687-b277-4425-8218-81de5fa2ddfe",
   "metadata": {},
   "outputs": [],
   "source": [
    "def search_gene_symbol(symbol, organism=\"Homo sapiens\"):\n",
    "    query = f\"{symbol}[Gene Name] AND {organism}[Organism]\"\n",
    "    handle = Entrez.esearch(db=\"gene\", term=query, retmode=\"xml\")\n",
    "    record = Entrez.read(handle)\n",
    "    handle.close()\n",
    "    return record[\"IdList\"]  # List of matching Entrez IDs"
   ]
  },
  {
   "cell_type": "code",
   "execution_count": 41,
   "id": "0fcfebb4-3420-4fb3-b3bf-bd3fffb1e27f",
   "metadata": {},
   "outputs": [
    {
     "data": {
      "text/plain": [
       "['7184']"
      ]
     },
     "execution_count": 41,
     "metadata": {},
     "output_type": "execute_result"
    }
   ],
   "source": [
    "search_gene_symbol(problem_symbol)"
   ]
  },
  {
   "cell_type": "code",
   "execution_count": 44,
   "id": "4507c142-5ea7-4012-ab0e-2eaeebcaad4b",
   "metadata": {},
   "outputs": [
    {
     "data": {
      "text/plain": [
       "{'Gene-ref_locus': 'HSP90B1', 'Gene-ref_desc': 'heat shock protein 90 beta family member 1', 'Gene-ref_db': [{'Dbtag_db': 'VGNC', 'Dbtag_tag': {'Object-id': {'Object-id_str': 'VGNC:54212'}}}, {'Dbtag_db': 'Ensembl', 'Dbtag_tag': {'Object-id': {'Object-id_str': 'ENSCAFG00845010421'}}}, {'Dbtag_db': 'RGD', 'Dbtag_tag': {'Object-id': {'Object-id_id': '12337614'}}}], 'Gene-ref_syn': ['TRA1', 'GRP94'], 'Gene-ref_formal-name': {'Gene-nomenclature': {'Gene-nomenclature_status': StringElement('', attributes={'value': 'official'}), 'Gene-nomenclature_symbol': 'HSP90B1', 'Gene-nomenclature_name': 'heat shock protein 90 beta family member 1', 'Gene-nomenclature_source': {'Dbtag': {'Dbtag_db': 'VGNC', 'Dbtag_tag': {'Object-id': {'Object-id_str': 'VGNC:54212'}}}}}}}"
      ]
     },
     "execution_count": 44,
     "metadata": {},
     "output_type": "execute_result"
    }
   ],
   "source": [
    "fetch_gene_info(404019)"
   ]
  },
  {
   "cell_type": "code",
   "execution_count": 45,
   "id": "e6e43e89-87c8-417e-b964-70841df67f59",
   "metadata": {},
   "outputs": [
    {
     "data": {
      "text/plain": [
       "{'Gene-ref_locus': 'HSP90B1', 'Gene-ref_desc': 'heat shock protein 90 beta family member 1', 'Gene-ref_maploc': '12q23.3', 'Gene-ref_db': [{'Dbtag_db': 'HGNC', 'Dbtag_tag': {'Object-id': {'Object-id_str': 'HGNC:12028'}}}, {'Dbtag_db': 'Ensembl', 'Dbtag_tag': {'Object-id': {'Object-id_str': 'ENSG00000166598'}}}, {'Dbtag_db': 'MIM', 'Dbtag_tag': {'Object-id': {'Object-id_id': '191175'}}}, {'Dbtag_db': 'AllianceGenome', 'Dbtag_tag': {'Object-id': {'Object-id_str': 'HGNC:12028'}}}], 'Gene-ref_syn': ['ECGP', 'GP96', 'TRA1', 'GRP94', 'HEL35', 'HEL-S-125m'], 'Gene-ref_formal-name': {'Gene-nomenclature': {'Gene-nomenclature_status': StringElement('', attributes={'value': 'official'}), 'Gene-nomenclature_symbol': 'HSP90B1', 'Gene-nomenclature_name': 'heat shock protein 90 beta family member 1', 'Gene-nomenclature_source': {'Dbtag': {'Dbtag_db': 'HGNC', 'Dbtag_tag': {'Object-id': {'Object-id_str': 'HGNC:12028'}}}}}}}"
      ]
     },
     "execution_count": 45,
     "metadata": {},
     "output_type": "execute_result"
    }
   ],
   "source": [
    "fetch_gene_info(7184)"
   ]
  },
  {
   "cell_type": "markdown",
   "id": "dbad409d-4936-4120-960d-32801fde9d13",
   "metadata": {},
   "source": [
    "It's a dog gene! loool"
   ]
  },
  {
   "cell_type": "code",
   "execution_count": 46,
   "id": "d9601e05-194d-4058-834f-398124fbddb5",
   "metadata": {},
   "outputs": [
    {
     "data": {
      "text/plain": [
       "['7184']"
      ]
     },
     "execution_count": 46,
     "metadata": {},
     "output_type": "execute_result"
    }
   ],
   "source": [
    "search_gene_symbol(problem_symbol, organism='Homo sapiens')"
   ]
  },
  {
   "cell_type": "code",
   "execution_count": 47,
   "id": "b751d692-1005-4a95-9bf4-ebe4dab83848",
   "metadata": {},
   "outputs": [
    {
     "data": {
      "text/plain": [
       "['404019']"
      ]
     },
     "execution_count": 47,
     "metadata": {},
     "output_type": "execute_result"
    }
   ],
   "source": [
    "search_gene_symbol(problem_symbol, organism='Canis familiaris')"
   ]
  },
  {
   "cell_type": "markdown",
   "id": "8f32a56e-e21b-4903-ba34-304d31380e31",
   "metadata": {},
   "source": [
    "These two genes are 'orthologs': Orthologs are genes in different species that evolved from a common ancestral gene and usually retain the same function."
   ]
  },
  {
   "cell_type": "code",
   "execution_count": 53,
   "id": "160dc134-782f-4fa4-a26f-a8ce7b06edc1",
   "metadata": {},
   "outputs": [
    {
     "name": "stderr",
     "output_type": "stream",
     "text": [
      "/var/folders/hz/19nx8z9n3y10jrc842qwt7h80000gn/T/ipykernel_90180/1842866075.py:5: SettingWithCopyWarning: \n",
      "A value is trying to be set on a copy of a slice from a DataFrame.\n",
      "Try using .loc[row_indexer,col_indexer] = value instead\n",
      "\n",
      "See the caveats in the documentation: https://pandas.pydata.org/pandas-docs/stable/user_guide/indexing.html#returning-a-view-versus-a-copy\n",
      "  problem_df['organism'] = problem_df['entrez'].apply(fetch_entrez_organism)\n"
     ]
    }
   ],
   "source": [
    "def fetch_entrez_organism(entrez_id: int) -> str:\n",
    "    record = fetch_entrez_entry(entrez_id)\n",
    "    return record['Entrezgene_source']['BioSource']['BioSource_org']['Org-ref']['Org-ref_taxname']\n",
    "\n",
    "problem_df['organism'] = problem_df['entrez'].apply(fetch_entrez_organism)"
   ]
  },
  {
   "cell_type": "code",
   "execution_count": 54,
   "id": "e3d5a0d5-bff7-436b-b928-95a6b57207c6",
   "metadata": {},
   "outputs": [
    {
     "data": {
      "text/html": [
       "<div>\n",
       "<style scoped>\n",
       "    .dataframe tbody tr th:only-of-type {\n",
       "        vertical-align: middle;\n",
       "    }\n",
       "\n",
       "    .dataframe tbody tr th {\n",
       "        vertical-align: top;\n",
       "    }\n",
       "\n",
       "    .dataframe thead th {\n",
       "        text-align: right;\n",
       "    }\n",
       "</style>\n",
       "<table border=\"1\" class=\"dataframe\">\n",
       "  <thead>\n",
       "    <tr style=\"text-align: right;\">\n",
       "      <th></th>\n",
       "      <th>entrez</th>\n",
       "      <th>symbol</th>\n",
       "      <th>gene_symbol_official</th>\n",
       "      <th>gene_description</th>\n",
       "      <th>organism</th>\n",
       "    </tr>\n",
       "  </thead>\n",
       "  <tbody>\n",
       "    <tr>\n",
       "      <th>2180</th>\n",
       "      <td>7184</td>\n",
       "      <td>HSP90B1</td>\n",
       "      <td>HSP90B1</td>\n",
       "      <td>heat shock protein 90 beta family member 1</td>\n",
       "      <td>Homo sapiens</td>\n",
       "    </tr>\n",
       "    <tr>\n",
       "      <th>2398</th>\n",
       "      <td>404019</td>\n",
       "      <td>HSP90B1</td>\n",
       "      <td>HSP90B1</td>\n",
       "      <td>heat shock protein 90 beta family member 1</td>\n",
       "      <td>Canis lupus familiaris</td>\n",
       "    </tr>\n",
       "  </tbody>\n",
       "</table>\n",
       "</div>"
      ],
      "text/plain": [
       "      entrez   symbol gene_symbol_official  \\\n",
       "2180    7184  HSP90B1              HSP90B1   \n",
       "2398  404019  HSP90B1              HSP90B1   \n",
       "\n",
       "                                gene_description                organism  \n",
       "2180  heat shock protein 90 beta family member 1            Homo sapiens  \n",
       "2398  heat shock protein 90 beta family member 1  Canis lupus familiaris  "
      ]
     },
     "execution_count": 54,
     "metadata": {},
     "output_type": "execute_result"
    }
   ],
   "source": [
    "problem_df"
   ]
  },
  {
   "cell_type": "markdown",
   "id": "fb759afd-5bb0-42a8-b73e-f07c7860cb4e",
   "metadata": {},
   "source": [
    "hahahah, let's see the organisms behind other genes"
   ]
  },
  {
   "cell_type": "code",
   "execution_count": 55,
   "id": "1fefe3b4-6aa2-4120-8252-1ac7b0cff8e7",
   "metadata": {},
   "outputs": [
    {
     "name": "stderr",
     "output_type": "stream",
     "text": [
      "100%|██████████████████████████████████████████████████████████████████████████████████████████████████████████████████████████████████████████████████████████████████████████████████████████| 2401/2401 [59:20<00:00,  1.48s/it]\n"
     ]
    },
    {
     "data": {
      "text/plain": [
       "organism\n",
       "Homo sapiens              2400\n",
       "Canis lupus familiaris       1\n",
       "Name: count, dtype: int64"
      ]
     },
     "execution_count": 55,
     "metadata": {},
     "output_type": "execute_result"
    }
   ],
   "source": [
    "from tqdm import tqdm\n",
    "tqdm.pandas()  # Registers a tqdm-enabled version of apply()\n",
    "\n",
    "df['organism'] = df['entrez'].progress_apply(fetch_entrez_organism)\n",
    "df.organism.value_counts()"
   ]
  },
  {
   "cell_type": "markdown",
   "id": "93c28fef-af43-409c-a341-69cfc229c5b9",
   "metadata": {},
   "source": [
    "only one error, thankfully!"
   ]
  },
  {
   "cell_type": "code",
   "execution_count": 60,
   "id": "f7bfd156-08df-4600-bc23-0833db937c0e",
   "metadata": {},
   "outputs": [
    {
     "data": {
      "text/html": [
       "<div>\n",
       "<style scoped>\n",
       "    .dataframe tbody tr th:only-of-type {\n",
       "        vertical-align: middle;\n",
       "    }\n",
       "\n",
       "    .dataframe tbody tr th {\n",
       "        vertical-align: top;\n",
       "    }\n",
       "\n",
       "    .dataframe thead th {\n",
       "        text-align: right;\n",
       "    }\n",
       "</style>\n",
       "<table border=\"1\" class=\"dataframe\">\n",
       "  <thead>\n",
       "    <tr style=\"text-align: right;\">\n",
       "      <th></th>\n",
       "      <th>count</th>\n",
       "    </tr>\n",
       "    <tr>\n",
       "      <th>organism</th>\n",
       "      <th></th>\n",
       "    </tr>\n",
       "  </thead>\n",
       "  <tbody>\n",
       "    <tr>\n",
       "      <th>Homo sapiens</th>\n",
       "      <td>2400</td>\n",
       "    </tr>\n",
       "    <tr>\n",
       "      <th>Canis lupus familiaris</th>\n",
       "      <td>1</td>\n",
       "    </tr>\n",
       "  </tbody>\n",
       "</table>\n",
       "</div>"
      ],
      "text/plain": [
       "                        count\n",
       "organism                     \n",
       "Homo sapiens             2400\n",
       "Canis lupus familiaris      1"
      ]
     },
     "execution_count": 60,
     "metadata": {},
     "output_type": "execute_result"
    }
   ],
   "source": [
    "pd.DataFrame(df.organism.value_counts())"
   ]
  }
 ],
 "metadata": {
  "kernelspec": {
   "display_name": "Python 3 (ipykernel)",
   "language": "python",
   "name": "python3"
  },
  "language_info": {
   "codemirror_mode": {
    "name": "ipython",
    "version": 3
   },
   "file_extension": ".py",
   "mimetype": "text/x-python",
   "name": "python",
   "nbconvert_exporter": "python",
   "pygments_lexer": "ipython3",
   "version": "3.11.12"
  }
 },
 "nbformat": 4,
 "nbformat_minor": 5
}
