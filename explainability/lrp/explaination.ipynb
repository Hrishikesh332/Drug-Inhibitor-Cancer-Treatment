{
 "cells": [
  {
   "cell_type": "markdown",
   "id": "1d9402ef",
   "metadata": {},
   "source": [
    "# LRP for the transynergy model \n",
    "With the zennit library by bosch: https://github.com/chr5tphr/zennit"
   ]
  },
  {
   "cell_type": "code",
   "execution_count": 1,
   "id": "959b7639",
   "metadata": {},
   "outputs": [
    {
     "name": "stdout",
     "output_type": "stream",
     "text": [
      "Requirement already satisfied: torchsummary in c:\\users\\ismyn\\miniconda3\\envs\\trans_synergy\\lib\\site-packages (1.5.1)\n"
     ]
    }
   ],
   "source": [
    "!pip install torchsummary\n",
    "#! pip install zennit"
   ]
  },
  {
   "cell_type": "code",
   "execution_count": 2,
   "id": "f5e4940d",
   "metadata": {},
   "outputs": [
    {
     "name": "stdout",
     "output_type": "stream",
     "text": [
      "c:\\Users\\ismyn\\UNI\\FU Berlin\\SWP_Cancer\\Drug-Inhibitor-Cancer-Treatment\n"
     ]
    }
   ],
   "source": [
    "import os\n",
    "\n",
    "os.chdir(os.path.abspath(os.path.join(os.getcwd(), \"../..\")))\n",
    "print(os.getcwd())"
   ]
  },
  {
   "cell_type": "markdown",
   "id": "14605688",
   "metadata": {},
   "source": [
    "We need to find the right rule for each model layer, let's examine it first"
   ]
  },
  {
   "cell_type": "code",
   "execution_count": 3,
   "id": "8e0d5025",
   "metadata": {},
   "outputs": [],
   "source": [
    "from explainability.utils import load_transynergy_model, load_biomining_model\n",
    "\n",
    "model_trans = load_transynergy_model(\"external/drug_combination/trans_synergy/data/models/fold_test_model.pt\") \n",
    "model_biomining = load_biomining_model(\"external/predicting_synergy_nn/outputs/models/best_f1.pt\")"
   ]
  },
  {
   "cell_type": "markdown",
   "id": "e5e180cd",
   "metadata": {},
   "source": [
    "## Biomining\n",
    "\n",
    "We add lrp-rules only to the Linear layers. We merge the batchnorms into the linear layers with SequentialMergeBatchNorm, ReLUs are ignored as indicated here:  https://zennit.readthedocs.io/en/0.4.4/how-to/use-rules-composites-and-canonizers.html .\n",
    "\n",
    "For the LRP-rules in the linear layers we make use of: https://iphome.hhi.de/samek/pdf/MonXAI19.pdf. We use LRP-0 in the top layers, LRP-epsilon in the middle layers and the LRP-gamma in the bottom 2 layers, as advised."
   ]
  },
  {
   "cell_type": "code",
   "execution_count": 4,
   "id": "9846b7e4",
   "metadata": {},
   "outputs": [
    {
     "name": "stdout",
     "output_type": "stream",
     "text": [
      "SynergyModel(\n",
      "  (net): Sequential(\n",
      "    (0): Linear(in_features=33, out_features=512, bias=True)\n",
      "    (1): BatchNorm1d(512, eps=1e-05, momentum=0.1, affine=True, track_running_stats=True)\n",
      "    (2): Tanh()\n",
      "    (3): Dropout(p=0.3, inplace=False)\n",
      "    (4): Linear(in_features=512, out_features=256, bias=True)\n",
      "    (5): BatchNorm1d(256, eps=1e-05, momentum=0.1, affine=True, track_running_stats=True)\n",
      "    (6): ReLU()\n",
      "    (7): Dropout(p=0.3, inplace=False)\n",
      "    (8): Linear(in_features=256, out_features=128, bias=True)\n",
      "    (9): BatchNorm1d(128, eps=1e-05, momentum=0.1, affine=True, track_running_stats=True)\n",
      "    (10): ReLU()\n",
      "    (11): Dropout(p=0.3, inplace=False)\n",
      "    (12): Linear(in_features=128, out_features=256, bias=True)\n",
      "    (13): BatchNorm1d(256, eps=1e-05, momentum=0.1, affine=True, track_running_stats=True)\n",
      "    (14): ReLU()\n",
      "    (15): Dropout(p=0.3, inplace=False)\n",
      "    (16): Linear(in_features=256, out_features=512, bias=True)\n",
      "    (17): BatchNorm1d(512, eps=1e-05, momentum=0.1, affine=True, track_running_stats=True)\n",
      "    (18): ReLU()\n",
      "    (19): Dropout(p=0.3, inplace=False)\n",
      "    (20): Linear(in_features=512, out_features=1, bias=True)\n",
      "  )\n",
      ")\n"
     ]
    }
   ],
   "source": [
    "print(model_biomining)"
   ]
  },
  {
   "cell_type": "markdown",
   "id": "1d4f8455",
   "metadata": {},
   "source": [
    "## Transynergy"
   ]
  },
  {
   "cell_type": "code",
   "execution_count": 5,
   "id": "75c1234d",
   "metadata": {},
   "outputs": [
    {
     "name": "stdout",
     "output_type": "stream",
     "text": [
      "TransposeMultiTransformersPlusLinear(\n",
      "  (linear_layers): ModuleList(\n",
      "    (0-2): 3 x Linear(in_features=2402, out_features=400, bias=True)\n",
      "  )\n",
      "  (norms): ModuleList(\n",
      "    (0-2): 3 x Norm()\n",
      "  )\n",
      "  (dropouts): ModuleList(\n",
      "    (0-2): 3 x Dropout(p=0.2, inplace=False)\n",
      "  )\n",
      "  (transformer_list): ModuleList(\n",
      "    (0): Transformer(\n",
      "      (encoder): Encoder(\n",
      "        (layers): ModuleList(\n",
      "          (0): EncoderLayer(\n",
      "            (norm_1): Norm()\n",
      "            (norm_2): Norm()\n",
      "            (attn): MultiHeadAttention(\n",
      "              (q_linear): Linear(in_features=3, out_features=3, bias=True)\n",
      "              (v_linear): Linear(in_features=3, out_features=3, bias=True)\n",
      "              (k_linear): Linear(in_features=3, out_features=3, bias=True)\n",
      "              (dropout): Dropout(p=0.2, inplace=False)\n",
      "              (out): Linear(in_features=3, out_features=3, bias=True)\n",
      "            )\n",
      "            (ff): FeedForward(\n",
      "              (linear_1): Linear(in_features=3, out_features=3, bias=True)\n",
      "              (dropout): Dropout(p=0.2, inplace=False)\n",
      "              (norm): Norm()\n",
      "              (linear_2): Linear(in_features=3, out_features=3, bias=True)\n",
      "            )\n",
      "            (dropout_1): Dropout(p=0.2, inplace=False)\n",
      "            (dropout_2): Dropout(p=0.2, inplace=False)\n",
      "          )\n",
      "        )\n",
      "        (norm): Norm()\n",
      "      )\n",
      "      (decoder): Decoder(\n",
      "        (layers): ModuleList(\n",
      "          (0): DecoderLayer(\n",
      "            (norm_1): Norm()\n",
      "            (norm_2): Norm()\n",
      "            (norm_3): Norm()\n",
      "            (dropout_1): Dropout(p=0.2, inplace=False)\n",
      "            (dropout_2): Dropout(p=0.2, inplace=False)\n",
      "            (dropout_3): Dropout(p=0.2, inplace=False)\n",
      "            (attn_1): MultiHeadAttention(\n",
      "              (q_linear): Linear(in_features=3, out_features=3, bias=True)\n",
      "              (v_linear): Linear(in_features=3, out_features=3, bias=True)\n",
      "              (k_linear): Linear(in_features=3, out_features=3, bias=True)\n",
      "              (dropout): Dropout(p=0.2, inplace=False)\n",
      "              (out): Linear(in_features=3, out_features=3, bias=True)\n",
      "            )\n",
      "            (attn_2): MultiHeadAttention(\n",
      "              (q_linear): Linear(in_features=3, out_features=3, bias=True)\n",
      "              (v_linear): Linear(in_features=3, out_features=3, bias=True)\n",
      "              (k_linear): Linear(in_features=3, out_features=3, bias=True)\n",
      "              (dropout): Dropout(p=0.2, inplace=False)\n",
      "              (out): Linear(in_features=3, out_features=3, bias=True)\n",
      "            )\n",
      "            (ff): FeedForward(\n",
      "              (linear_1): Linear(in_features=3, out_features=3, bias=True)\n",
      "              (dropout): Dropout(p=0.2, inplace=False)\n",
      "              (norm): Norm()\n",
      "              (linear_2): Linear(in_features=3, out_features=3, bias=True)\n",
      "            )\n",
      "          )\n",
      "        )\n",
      "        (norm): Norm()\n",
      "      )\n",
      "    )\n",
      "  )\n",
      "  (out): OutputFeedForward(\n",
      "    (linear_1): Linear(in_features=1200, out_features=2000, bias=True)\n",
      "    (norm_1): Norm()\n",
      "    (dropouts): ModuleList(\n",
      "      (0-2): 3 x Dropout(p=0.2, inplace=False)\n",
      "    )\n",
      "    (linear_layers): ModuleList(\n",
      "      (0): Linear(in_features=2000, out_features=1000, bias=True)\n",
      "      (1): Linear(in_features=1000, out_features=1, bias=True)\n",
      "    )\n",
      "    (norms): ModuleList(\n",
      "      (0-1): 2 x Norm()\n",
      "    )\n",
      "  )\n",
      "  (drug_fp_a): NeuralFingerprint(\n",
      "    (conv_layers): ModuleList(\n",
      "      (0): GraphDegreeConv(\n",
      "        (normalize): BatchNorm1d(16, eps=1e-05, momentum=0.1, affine=False, track_running_stats=True)\n",
      "        (linear): Linear(in_features=62, out_features=16, bias=False)\n",
      "        (degree_layer_list): ModuleList(\n",
      "          (0-5): 6 x Linear(in_features=68, out_features=16, bias=False)\n",
      "        )\n",
      "      )\n",
      "      (1): GraphDegreeConv(\n",
      "        (normalize): BatchNorm1d(16, eps=1e-05, momentum=0.1, affine=False, track_running_stats=True)\n",
      "        (linear): Linear(in_features=16, out_features=16, bias=False)\n",
      "        (degree_layer_list): ModuleList(\n",
      "          (0-5): 6 x Linear(in_features=22, out_features=16, bias=False)\n",
      "        )\n",
      "      )\n",
      "    )\n",
      "    (out_layers): ModuleList(\n",
      "      (0): Linear(in_features=62, out_features=512, bias=True)\n",
      "      (1-2): 2 x Linear(in_features=16, out_features=512, bias=True)\n",
      "    )\n",
      "  )\n",
      "  (drug_fp_b): NeuralFingerprint(\n",
      "    (conv_layers): ModuleList(\n",
      "      (0): GraphDegreeConv(\n",
      "        (normalize): BatchNorm1d(16, eps=1e-05, momentum=0.1, affine=False, track_running_stats=True)\n",
      "        (linear): Linear(in_features=62, out_features=16, bias=False)\n",
      "        (degree_layer_list): ModuleList(\n",
      "          (0-5): 6 x Linear(in_features=68, out_features=16, bias=False)\n",
      "        )\n",
      "      )\n",
      "      (1): GraphDegreeConv(\n",
      "        (normalize): BatchNorm1d(16, eps=1e-05, momentum=0.1, affine=False, track_running_stats=True)\n",
      "        (linear): Linear(in_features=16, out_features=16, bias=False)\n",
      "        (degree_layer_list): ModuleList(\n",
      "          (0-5): 6 x Linear(in_features=22, out_features=16, bias=False)\n",
      "        )\n",
      "      )\n",
      "    )\n",
      "    (out_layers): ModuleList(\n",
      "      (0): Linear(in_features=62, out_features=512, bias=True)\n",
      "      (1-2): 2 x Linear(in_features=16, out_features=512, bias=True)\n",
      "    )\n",
      "  )\n",
      ")\n"
     ]
    }
   ],
   "source": [
    "print(model_trans)"
   ]
  }
 ],
 "metadata": {
  "kernelspec": {
   "display_name": "trans_synergy",
   "language": "python",
   "name": "python3"
  },
  "language_info": {
   "codemirror_mode": {
    "name": "ipython",
    "version": 3
   },
   "file_extension": ".py",
   "mimetype": "text/x-python",
   "name": "python",
   "nbconvert_exporter": "python",
   "pygments_lexer": "ipython3",
   "version": "3.11.11"
  }
 },
 "nbformat": 4,
 "nbformat_minor": 5
}
