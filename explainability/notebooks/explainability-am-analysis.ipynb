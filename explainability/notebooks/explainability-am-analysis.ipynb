{
 "cells": [
  {
   "cell_type": "code",
   "execution_count": null,
   "id": "8a472881-c92f-484e-bec7-958a3c999cd4",
   "metadata": {},
   "outputs": [],
   "source": [
    "import sys\n",
    "from pathlib import Path\n",
    "import os \n",
    "\n",
    "# Assuming this notebook is in: explainability/notebooks/\n",
    "# So we go two levels up to reach the root where 'explainability/' lives\n",
    "project_root = Path.cwd().parents[1]  # cwd = explainability/notebooks/\n",
    "sys.path.append(str(project_root))\n",
    "os.chdir(project_root)"
   ]
  },
  {
   "cell_type": "code",
   "execution_count": null,
   "id": "1eb61b76",
   "metadata": {},
   "outputs": [],
   "source": [
    "from explainability.am.load_results import load_results\n",
    "\n",
    "biomining_df = load_results(\"biomining\")\n",
    "transynergy_df = load_results(\"transynergy\", transynergy_features_parquet_path=\"./external/drug_combination/data/final_X.parquet\")"
   ]
  },
  {
   "cell_type": "code",
   "execution_count": null,
   "id": "690ec16d-0413-495d-a082-5112cd7cd9e4",
   "metadata": {},
   "outputs": [],
   "source": [
    "biomining_df.head()"
   ]
  },
  {
   "cell_type": "code",
   "execution_count": null,
   "id": "bf4e484e-64bd-4e40-8ac7-df913fb63b5a",
   "metadata": {},
   "outputs": [],
   "source": [
    "transynergy_df.head()"
   ]
  },
  {
   "cell_type": "code",
   "execution_count": null,
   "id": "b5e0ca31-23aa-4d6a-b59e-24c89d9d5c4a",
   "metadata": {},
   "outputs": [],
   "source": [
    "biomining_max_df = biomining_df[biomining_df.minimax == \"max\"]\n",
    "transynergy_max_df = transynergy_df[transynergy_df.minimax == \"max\"]\n",
    "\n",
    "biomining_min_df = biomining_df[biomining_df.minimax == \"min\"]\n",
    "transynergy_min_df = transynergy_df[transynergy_df.minimax == \"min\"]"
   ]
  },
  {
   "cell_type": "code",
   "execution_count": null,
   "id": "ac2e124f-10a1-4df8-a015-b0da8b21ba06",
   "metadata": {},
   "outputs": [],
   "source": [
    "def compute_mean_feature_importance(df):\n",
    "    return df.groupby('feature', as_index=True).agg({'value': 'mean'}).sort_values(by='value', ascending=False)\n",
    "\n",
    "\n",
    "biomining_max_fi_df = compute_mean_feature_importance(biomining_max_df)\n",
    "transynergy_max_fi_df = compute_mean_feature_importance(transynergy_max_df)\n",
    "\n",
    "biomining_min_fi_df = compute_mean_feature_importance(biomining_min_df)\n",
    "transynergy_min_df = compute_mean_feature_importance(transynergy_min_df)"
   ]
  },
  {
   "cell_type": "code",
   "execution_count": null,
   "id": "797ce385-315a-4bdb-bf99-3349f9d92834",
   "metadata": {},
   "outputs": [],
   "source": [
    "import matplotlib.pyplot as plt\n",
    "plt.style.use('seaborn-v0_8-darkgrid')\n",
    "\n",
    "biomining_max_fi_df.plot(kind=\"bar\")\n",
    "plt.title('Activation Max. mean feature values across regularizations biomining')\n",
    "plt.show()"
   ]
  },
  {
   "cell_type": "code",
   "execution_count": null,
   "id": "95102b90-317c-421f-ab42-aedb56799b60",
   "metadata": {},
   "outputs": [],
   "source": [
    "biomining_min_fi_df.plot(kind=\"bar\")"
   ]
  },
  {
   "cell_type": "code",
   "execution_count": null,
   "id": "6e595cc1-2a1f-4e74-8086-d63bf06d6a37",
   "metadata": {},
   "outputs": [],
   "source": [
    "transynergy_max_fi_df.iloc[:30].plot(kind=\"bar\")\n",
    "plt.title('Activation Max. mean feature values across regularizations transynergy')\n",
    "plt.show()"
   ]
  },
  {
   "cell_type": "code",
   "execution_count": null,
   "id": "3aa9bcec-8034-4e1b-83bc-3aed26a8c1a8",
   "metadata": {},
   "outputs": [],
   "source": []
  }
 ],
 "metadata": {
  "kernelspec": {
   "display_name": "Python 3 (ipykernel)",
   "language": "python",
   "name": "python3"
  },
  "language_info": {
   "codemirror_mode": {
    "name": "ipython",
    "version": 3
   },
   "file_extension": ".py",
   "mimetype": "text/x-python",
   "name": "python",
   "nbconvert_exporter": "python",
   "pygments_lexer": "ipython3",
   "version": "3.11.13"
  }
 },
 "nbformat": 4,
 "nbformat_minor": 5
}
