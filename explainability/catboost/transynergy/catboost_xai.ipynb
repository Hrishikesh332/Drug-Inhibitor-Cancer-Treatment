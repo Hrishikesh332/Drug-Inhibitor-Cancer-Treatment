{
 "cells": [
  {
   "cell_type": "code",
   "execution_count": null,
   "id": "ee240530-499e-4a54-b8ac-22c7d074ac63",
   "metadata": {},
   "outputs": [],
   "source": [
    "import joblib \n",
    "import catboost\n",
    "import matplotlib.pyplot as plt\n",
    "import seaborn as sns\n",
    "import numpy as np\n",
    "import pandas as pd\n",
    "\n",
    "BEST_MODEL_PATH = \"../../../baselines/catboost/models/best_catboost_transynergy_af_pandas.pkl\"\n",
    "transynergy_features_parquet_path: str | None = \"../../../external/drug_combination/data/final_X.parquet\"\n",
    "\n",
    "X_df = pd.read_parquet(transynergy_features_parquet_path)\n",
    "FEATURE_NAMES = X_df.columns\n",
    "\n",
    "sns.set_theme(style=\"whitegrid\")"
   ]
  },
  {
   "cell_type": "markdown",
   "id": "5680d9bb-c1a8-4875-8922-0387221d76ae",
   "metadata": {},
   "source": [
    "## Load model"
   ]
  },
  {
   "cell_type": "code",
   "execution_count": null,
   "id": "a4fff2a0-0a8b-4b10-8ea3-5fddeea8f24f",
   "metadata": {},
   "outputs": [],
   "source": [
    "model: catboost.CatBoostRegressor = joblib.load(BEST_MODEL_PATH)\n",
    "model"
   ]
  },
  {
   "cell_type": "markdown",
   "id": "3ae69993-1131-47eb-9fbf-c4aa15489899",
   "metadata": {},
   "source": [
    "## Load importances and interactions"
   ]
  },
  {
   "cell_type": "code",
   "execution_count": null,
   "id": "b3104cdd-4199-4585-84dc-95f4e431614c",
   "metadata": {},
   "outputs": [],
   "source": [
    "feature_importances = np.array(model.feature_importances_)\n",
    "fi_df = pd.DataFrame({\n",
    "    'feature': FEATURE_NAMES,\n",
    "    'importance': feature_importances\n",
    "})\n",
    "\n",
    "fi_df = fi_df.sort_values(by='importance', ascending=False)\n",
    "fi_df.shape"
   ]
  },
  {
   "cell_type": "code",
   "execution_count": null,
   "id": "2206beae-3afb-4961-85a8-4bf8ad8ca17f",
   "metadata": {},
   "outputs": [],
   "source": [
    "fi_df.to_csv(\"catboost_feature_importances.csv\")"
   ]
  },
  {
   "cell_type": "code",
   "execution_count": null,
   "id": "c6bcab2d-9746-408f-a083-a64f3beaaf6f",
   "metadata": {},
   "outputs": [],
   "source": [
    "interactions = model.get_feature_importance(type='Interaction') \n",
    "# Format is [[1st_feature_idx, 2nd_feature_idx, importance], ...]\n",
    "\n",
    "n_features = len(FEATURE_NAMES)\n",
    "interaction_matrix = np.zeros((n_features, n_features))\n",
    "\n",
    "# Fill matrix\n",
    "for i_flt, j_flt, score in interactions:\n",
    "    i = int(i_flt)\n",
    "    j = int(j_flt)\n",
    "    interaction_matrix[i][j] = score\n",
    "\n",
    "interaction_matrix.shape"
   ]
  },
  {
   "cell_type": "code",
   "execution_count": null,
   "id": "f382eb2b-39ee-4a7b-8c62-666943f43fa2",
   "metadata": {},
   "outputs": [],
   "source": [
    "interaction_df = pd.DataFrame(interaction_matrix, columns=FEATURE_NAMES)\n",
    "interaction_df.index = FEATURE_NAMES\n",
    "interaction_df.head()\n",
    "interaction_df.to_csv(\"catboost_feature_interactions.csv\")"
   ]
  },
  {
   "cell_type": "code",
   "execution_count": null,
   "id": "8b71dd4c-4be4-479a-844c-5ecb0550d8fc",
   "metadata": {},
   "outputs": [],
   "source": [
    "# TODO: add SHAP values, catboost library has method for it!"
   ]
  },
  {
   "cell_type": "markdown",
   "id": "838a50ac-7717-4229-9e57-c0c3aecfc5e9",
   "metadata": {},
   "source": [
    "## Individual feature importances"
   ]
  },
  {
   "cell_type": "code",
   "execution_count": null,
   "id": "c547fe85-aac6-482d-83ee-65f6a221d054",
   "metadata": {},
   "outputs": [],
   "source": [
    "top_fi_df = fi_df.sort_values(by='importance', ascending=False).head(50)\n",
    "\n",
    "plt.figure(figsize=(12, 10))  # Increase height for better readability\n",
    "sns.barplot(\n",
    "    data=top_fi_df,\n",
    "    y='feature',\n",
    "    x='importance',\n",
    "    palette='viridis',\n",
    "    hue='importance',\n",
    "    legend=False\n",
    ")\n",
    "plt.xlabel(\"Feature Importance\")\n",
    "plt.ylabel(\"Feature\")\n",
    "plt.title(\"Top 50 CatBoost Feature Importances\")\n",
    "plt.tight_layout()\n",
    "plt.savefig('top_50_feature_importances.png')\n",
    "plt.show()"
   ]
  },
  {
   "cell_type": "markdown",
   "id": "d354e11e-d947-42e0-b1a8-625abb5fec1c",
   "metadata": {},
   "source": [
    "## Feature interaction heatmap"
   ]
  },
  {
   "cell_type": "code",
   "execution_count": null,
   "id": "cd0849ac-5a7d-49c4-a7c1-4bbd3ca3a842",
   "metadata": {},
   "outputs": [],
   "source": [
    "# Plot heatmap\n",
    "## TOO MUCH DATA!\n",
    "# plt.figure(figsize=(12, 10))\n",
    "# sns.heatmap(interaction_matrix,\n",
    "#             xticklabels=FEATURE_NAMES,\n",
    "#             yticklabels=FEATURE_NAMES,\n",
    "#             cmap='viridis',\n",
    "#             square=True,\n",
    "#             cbar_kws={'label': 'Interaction Importance'},\n",
    "#             annot=False)\n",
    "\n",
    "# plt.title('Feature Interaction Importance Heatmap')\n",
    "# plt.tight_layout()\n",
    "# plt.savefig('feature_interaction_heatmap.png')\n",
    "# plt.show()"
   ]
  },
  {
   "cell_type": "markdown",
   "id": "fd5dbd1f-55cd-4443-98ba-bfe133cfd985",
   "metadata": {},
   "source": [
    "## Top 50 feature interactions"
   ]
  },
  {
   "cell_type": "code",
   "execution_count": null,
   "id": "4724e934-07fc-461b-9934-e89805ede4dc",
   "metadata": {},
   "outputs": [],
   "source": [
    "# Step 1: Sort by interaction score descending\n",
    "sorted_interactions = sorted(interactions, key=lambda x: x[2], reverse=True)\n",
    "\n",
    "# Step 2: Take top 30\n",
    "top_k = 30\n",
    "top_interactions = sorted_interactions[:top_k]\n",
    "\n",
    "# Step 3: Convert to (name1, name2, score) tuples\n",
    "named_interactions = [\n",
    "    (f\"{FEATURE_NAMES[int(i)]} x {FEATURE_NAMES[int(j)]}\", score)\n",
    "    for i, j, score in top_interactions\n",
    "]\n",
    "\n",
    "# Step 4: Separate for plotting\n",
    "labels, scores = zip(*named_interactions)\n",
    "\n",
    "# Step 5: Plot\n",
    "plt.figure(figsize=(20, 10))\n",
    "sns.barplot(x=labels, y=scores, palette='viridis', hue=scores, legend=False)\n",
    "plt.xticks(rotation=45, ha='right')\n",
    "plt.xlabel(\"Interaction Score\")\n",
    "plt.ylabel(\"Feature Pair\")\n",
    "plt.title(f\"Top {top_k} Feature Interactions by Importance\")\n",
    "plt.tight_layout()\n",
    "plt.savefig('feature_interactions_top_30.png')\n",
    "plt.show()"
   ]
  },
  {
   "cell_type": "markdown",
   "id": "5a3d4c04-202a-4f01-9746-9aeb2d7ac69f",
   "metadata": {},
   "source": [
    "## Correlation analysis"
   ]
  },
  {
   "cell_type": "code",
   "execution_count": null,
   "id": "de0d3500-9848-4c00-a72c-d6fd6dcfb24a",
   "metadata": {},
   "outputs": [],
   "source": [
    "sns.heatmap(X_df[[\"SLCO1B1_CL\", \"SLCO1B1_A\", \"SLCO1B1_B\", \"PDCD2L_CL\", \"PDCD2L_A\", \"PDCD2L_B\"]].corr(), annot=True)"
   ]
  },
  {
   "cell_type": "code",
   "execution_count": null,
   "id": "559bdb0f-bd01-4c66-a629-ff1fd4d012c8",
   "metadata": {},
   "outputs": [],
   "source": [
    "sns.heatmap(X_df[[\"BUB1B_CL\", \"BUB1B_A\", \"BUB1B_B\", \"EIF2S2_CL\", \"EIF2S2_A\", \"EIF2S2_B\"]].corr(), annot=True)"
   ]
  },
  {
   "cell_type": "code",
   "execution_count": null,
   "id": "0d7d53cf-e0d5-4cee-9a9d-8ae62eca6201",
   "metadata": {},
   "outputs": [],
   "source": [
    "sns.heatmap(X_df[[\"MYB_CL\", \"MYB_A\", \"MYB_B\", \"FLCN_CL\", \"FLCN_A\", \"FLCN_B\"]].corr(), annot=True)"
   ]
  }
 ],
 "metadata": {
  "kernelspec": {
   "display_name": "Python 3 (ipykernel)",
   "language": "python",
   "name": "python3"
  },
  "language_info": {
   "codemirror_mode": {
    "name": "ipython",
    "version": 3
   },
   "file_extension": ".py",
   "mimetype": "text/x-python",
   "name": "python",
   "nbconvert_exporter": "python",
   "pygments_lexer": "ipython3",
   "version": "3.11.12"
  }
 },
 "nbformat": 4,
 "nbformat_minor": 5
}
